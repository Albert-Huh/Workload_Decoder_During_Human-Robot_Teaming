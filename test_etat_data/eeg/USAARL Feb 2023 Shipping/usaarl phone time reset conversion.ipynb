{
 "cells": [
  {
   "cell_type": "code",
   "execution_count": 1,
   "metadata": {},
   "outputs": [
    {
     "name": "stdout",
     "output_type": "stream",
     "text": [
      "55 days, 15:34:00\n",
      "2023-01-19 23:21:27 converts to...\n",
      "2023-03-16 14:55:27 Central Time\n",
      "2023-03-16 19:55:27 UTC Time\n"
     ]
    }
   ],
   "source": [
    "import datetime\n",
    "\n",
    "# define datetime A and B - DO NOT CHANGE!\n",
    "A = datetime.datetime(2023, 2, 14, 10, 55, 0)\n",
    "B = datetime.datetime(2023, 4, 11, 2, 29, 0)\n",
    "\n",
    "# calculate the difference between datetime A and B\n",
    "delta = B - A\n",
    "\n",
    "# print the timedelta object\n",
    "print(delta)\n",
    "\n",
    "# define a function that takes a timedelta object and a new datetime object as input,\n",
    "# and returns the corresponding datetime object\n",
    "def add_delta(delta, A):\n",
    "    B = A + delta\n",
    "    return B\n",
    "\n",
    "# define a new datetime object to serve as A\n",
    "new_A = datetime.datetime(2023, 1, 19, 23, 21, 27)\n",
    "\n",
    "# use the add_delta function to calculate the new datetime object B\n",
    "new_B = add_delta(delta, new_A)\n",
    "\n",
    "ct_to_utc = datetime.timedelta(hours=5)\n",
    "new_C = add_delta(ct_to_utc, new_B)\n",
    "# print the new datetime object B\n",
    "print(new_A, \"converts to...\")\n",
    "print(new_B, \"Central Time\")\n",
    "print(new_C, \"UTC Time\")\n",
    "\n",
    "accepted_boards = [\"CB.47.18.4A.B3.67\", \"E0.85.DB.5C.86.C0\"]"
   ]
  },
  {
   "cell_type": "code",
   "execution_count": null,
   "metadata": {},
   "outputs": [],
   "source": []
  }
 ],
 "metadata": {
  "kernelspec": {
   "display_name": "base",
   "language": "python",
   "name": "python3"
  },
  "language_info": {
   "codemirror_mode": {
    "name": "ipython",
    "version": 3
   },
   "file_extension": ".py",
   "mimetype": "text/x-python",
   "name": "python",
   "nbconvert_exporter": "python",
   "pygments_lexer": "ipython3",
   "version": "3.9.12"
  },
  "orig_nbformat": 4
 },
 "nbformat": 4,
 "nbformat_minor": 2
}
